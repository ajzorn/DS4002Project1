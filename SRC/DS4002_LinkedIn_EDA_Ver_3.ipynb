{
 "cells": [
  {
   "cell_type": "code",
   "execution_count": 66,
   "id": "b3d1f969",
   "metadata": {
    "id": "b3d1f969"
   },
   "outputs": [],
   "source": [
    "# import packages\n",
    "import pandas as pd\n",
    "import numpy as np\n",
    "import plotly.express as px\n",
    "import os"
   ]
  },
  {
   "cell_type": "code",
   "execution_count": 67,
   "id": "a01492f6",
   "metadata": {
    "id": "a01492f6"
   },
   "outputs": [],
   "source": [
    "# define desired directory path\n",
    "#directory_path = \"/Users/treypallace/Desktop/Fourth Year Fall 2023/ds 4002/Project_Data/linkedin\"\n",
    "\n",
    "# use os.chdir() to change the working directory\n",
    "#os.chdir(directory_path)\n",
    "\n",
    "# read in the data\n",
    "job_postings_df = pd.read_csv(\"job_postings.csv\")\n",
    "job_skills_df = pd.read_csv(\"job_skills.csv\")\n"
   ]
  },
  {
   "cell_type": "code",
   "execution_count": 33,
   "id": "c5cee338",
   "metadata": {
    "colab": {
     "base_uri": "https://localhost:8080/",
     "height": 429
    },
    "id": "c5cee338",
    "outputId": "d5aee619-913e-480a-ba3e-d82d1761f81e"
   },
   "outputs": [
    {
     "data": {
      "text/html": [
       "<div>\n",
       "<style scoped>\n",
       "    .dataframe tbody tr th:only-of-type {\n",
       "        vertical-align: middle;\n",
       "    }\n",
       "\n",
       "    .dataframe tbody tr th {\n",
       "        vertical-align: top;\n",
       "    }\n",
       "\n",
       "    .dataframe thead th {\n",
       "        text-align: right;\n",
       "    }\n",
       "</style>\n",
       "<table border=\"1\" class=\"dataframe\">\n",
       "  <thead>\n",
       "    <tr style=\"text-align: right;\">\n",
       "      <th></th>\n",
       "      <th>job_id</th>\n",
       "      <th>company_id</th>\n",
       "      <th>title</th>\n",
       "      <th>description</th>\n",
       "      <th>max_salary</th>\n",
       "      <th>med_salary</th>\n",
       "      <th>min_salary</th>\n",
       "      <th>pay_period</th>\n",
       "      <th>formatted_work_type</th>\n",
       "      <th>location</th>\n",
       "      <th>...</th>\n",
       "      <th>expiry</th>\n",
       "      <th>closed_time</th>\n",
       "      <th>formatted_experience_level</th>\n",
       "      <th>skills_desc</th>\n",
       "      <th>listed_time</th>\n",
       "      <th>posting_domain</th>\n",
       "      <th>sponsored</th>\n",
       "      <th>work_type</th>\n",
       "      <th>currency</th>\n",
       "      <th>compensation_type</th>\n",
       "    </tr>\n",
       "  </thead>\n",
       "  <tbody>\n",
       "    <tr>\n",
       "      <th>15881</th>\n",
       "      <td>3701373516</td>\n",
       "      <td>74718032.0</td>\n",
       "      <td>Sanitation Technician</td>\n",
       "      <td>Location:\\n\\nWest Columbia, SC, US, 29172\\n\\n2...</td>\n",
       "      <td>NaN</td>\n",
       "      <td>NaN</td>\n",
       "      <td>NaN</td>\n",
       "      <td>NaN</td>\n",
       "      <td>Part-time</td>\n",
       "      <td>West Columbia, SC</td>\n",
       "      <td>...</td>\n",
       "      <td>1.700000e+12</td>\n",
       "      <td>NaN</td>\n",
       "      <td>Entry level</td>\n",
       "      <td>NaN</td>\n",
       "      <td>1.690000e+12</td>\n",
       "      <td>aspirebakeriescareers.com</td>\n",
       "      <td>0</td>\n",
       "      <td>PART_TIME</td>\n",
       "      <td>NaN</td>\n",
       "      <td>NaN</td>\n",
       "    </tr>\n",
       "    <tr>\n",
       "      <th>15882</th>\n",
       "      <td>3701373522</td>\n",
       "      <td>38897.0</td>\n",
       "      <td>Unit Secretary</td>\n",
       "      <td>Job Title: Unit Secretary\\nDepartment: Nursing...</td>\n",
       "      <td>NaN</td>\n",
       "      <td>NaN</td>\n",
       "      <td>NaN</td>\n",
       "      <td>NaN</td>\n",
       "      <td>Full-time</td>\n",
       "      <td>Teaneck, NJ</td>\n",
       "      <td>...</td>\n",
       "      <td>1.700000e+12</td>\n",
       "      <td>NaN</td>\n",
       "      <td>Entry level</td>\n",
       "      <td>NaN</td>\n",
       "      <td>1.690000e+12</td>\n",
       "      <td>recruiting.ultipro.com</td>\n",
       "      <td>0</td>\n",
       "      <td>FULL_TIME</td>\n",
       "      <td>NaN</td>\n",
       "      <td>NaN</td>\n",
       "    </tr>\n",
       "    <tr>\n",
       "      <th>15883</th>\n",
       "      <td>3701373523</td>\n",
       "      <td>38897.0</td>\n",
       "      <td>Radiology Aide, Perdiem</td>\n",
       "      <td>Job Title: Radiology Aide, Perdiem\\nDepartment...</td>\n",
       "      <td>NaN</td>\n",
       "      <td>NaN</td>\n",
       "      <td>NaN</td>\n",
       "      <td>NaN</td>\n",
       "      <td>Part-time</td>\n",
       "      <td>Teaneck, NJ</td>\n",
       "      <td>...</td>\n",
       "      <td>1.700000e+12</td>\n",
       "      <td>NaN</td>\n",
       "      <td>Entry level</td>\n",
       "      <td>NaN</td>\n",
       "      <td>1.690000e+12</td>\n",
       "      <td>recruiting.ultipro.com</td>\n",
       "      <td>0</td>\n",
       "      <td>PART_TIME</td>\n",
       "      <td>NaN</td>\n",
       "      <td>NaN</td>\n",
       "    </tr>\n",
       "    <tr>\n",
       "      <th>15884</th>\n",
       "      <td>3701373524</td>\n",
       "      <td>2623.0</td>\n",
       "      <td>MRI Manager</td>\n",
       "      <td>Grade 105\\nJob Type: Officer of Administration...</td>\n",
       "      <td>135000.0</td>\n",
       "      <td>NaN</td>\n",
       "      <td>110000.0</td>\n",
       "      <td>YEARLY</td>\n",
       "      <td>Full-time</td>\n",
       "      <td>New York, NY</td>\n",
       "      <td>...</td>\n",
       "      <td>1.700000e+12</td>\n",
       "      <td>NaN</td>\n",
       "      <td>Mid-Senior level</td>\n",
       "      <td>NaN</td>\n",
       "      <td>1.690000e+12</td>\n",
       "      <td>opportunities.columbia.edu</td>\n",
       "      <td>0</td>\n",
       "      <td>FULL_TIME</td>\n",
       "      <td>USD</td>\n",
       "      <td>BASE_SALARY</td>\n",
       "    </tr>\n",
       "    <tr>\n",
       "      <th>15885</th>\n",
       "      <td>3701373527</td>\n",
       "      <td>84659.0</td>\n",
       "      <td>Area Director of Business Development</td>\n",
       "      <td>Nexion Health Management affiliates operate 56...</td>\n",
       "      <td>NaN</td>\n",
       "      <td>NaN</td>\n",
       "      <td>NaN</td>\n",
       "      <td>NaN</td>\n",
       "      <td>Full-time</td>\n",
       "      <td>Vicksburg, MS</td>\n",
       "      <td>...</td>\n",
       "      <td>1.700000e+12</td>\n",
       "      <td>NaN</td>\n",
       "      <td>NaN</td>\n",
       "      <td>NaN</td>\n",
       "      <td>1.690000e+12</td>\n",
       "      <td>NaN</td>\n",
       "      <td>0</td>\n",
       "      <td>FULL_TIME</td>\n",
       "      <td>NaN</td>\n",
       "      <td>NaN</td>\n",
       "    </tr>\n",
       "  </tbody>\n",
       "</table>\n",
       "<p>5 rows × 27 columns</p>\n",
       "</div>"
      ],
      "text/plain": [
       "           job_id  company_id                                  title  \\\n",
       "15881  3701373516  74718032.0                  Sanitation Technician   \n",
       "15882  3701373522     38897.0                         Unit Secretary   \n",
       "15883  3701373523     38897.0                Radiology Aide, Perdiem   \n",
       "15884  3701373524      2623.0                            MRI Manager   \n",
       "15885  3701373527     84659.0  Area Director of Business Development   \n",
       "\n",
       "                                             description  max_salary  \\\n",
       "15881  Location:\\n\\nWest Columbia, SC, US, 29172\\n\\n2...         NaN   \n",
       "15882  Job Title: Unit Secretary\\nDepartment: Nursing...         NaN   \n",
       "15883  Job Title: Radiology Aide, Perdiem\\nDepartment...         NaN   \n",
       "15884  Grade 105\\nJob Type: Officer of Administration...    135000.0   \n",
       "15885  Nexion Health Management affiliates operate 56...         NaN   \n",
       "\n",
       "       med_salary  min_salary pay_period formatted_work_type  \\\n",
       "15881         NaN         NaN        NaN           Part-time   \n",
       "15882         NaN         NaN        NaN           Full-time   \n",
       "15883         NaN         NaN        NaN           Part-time   \n",
       "15884         NaN    110000.0     YEARLY           Full-time   \n",
       "15885         NaN         NaN        NaN           Full-time   \n",
       "\n",
       "                location  ...        expiry  closed_time  \\\n",
       "15881  West Columbia, SC  ...  1.700000e+12          NaN   \n",
       "15882        Teaneck, NJ  ...  1.700000e+12          NaN   \n",
       "15883        Teaneck, NJ  ...  1.700000e+12          NaN   \n",
       "15884       New York, NY  ...  1.700000e+12          NaN   \n",
       "15885      Vicksburg, MS  ...  1.700000e+12          NaN   \n",
       "\n",
       "       formatted_experience_level  skills_desc   listed_time  \\\n",
       "15881                 Entry level          NaN  1.690000e+12   \n",
       "15882                 Entry level          NaN  1.690000e+12   \n",
       "15883                 Entry level          NaN  1.690000e+12   \n",
       "15884            Mid-Senior level          NaN  1.690000e+12   \n",
       "15885                         NaN          NaN  1.690000e+12   \n",
       "\n",
       "                   posting_domain sponsored  work_type  currency  \\\n",
       "15881   aspirebakeriescareers.com         0  PART_TIME       NaN   \n",
       "15882      recruiting.ultipro.com         0  FULL_TIME       NaN   \n",
       "15883      recruiting.ultipro.com         0  PART_TIME       NaN   \n",
       "15884  opportunities.columbia.edu         0  FULL_TIME       USD   \n",
       "15885                         NaN         0  FULL_TIME       NaN   \n",
       "\n",
       "      compensation_type  \n",
       "15881               NaN  \n",
       "15882               NaN  \n",
       "15883               NaN  \n",
       "15884       BASE_SALARY  \n",
       "15885               NaN  \n",
       "\n",
       "[5 rows x 27 columns]"
      ]
     },
     "execution_count": 33,
     "metadata": {},
     "output_type": "execute_result"
    }
   ],
   "source": [
    "job_postings_df.tail(5)"
   ]
  },
  {
   "cell_type": "code",
   "execution_count": 34,
   "id": "e084717d",
   "metadata": {
    "colab": {
     "base_uri": "https://localhost:8080/",
     "height": 363
    },
    "id": "e084717d",
    "outputId": "f57293ed-ded6-4430-95c9-398bd8b0299a"
   },
   "outputs": [
    {
     "data": {
      "text/html": [
       "<div>\n",
       "<style scoped>\n",
       "    .dataframe tbody tr th:only-of-type {\n",
       "        vertical-align: middle;\n",
       "    }\n",
       "\n",
       "    .dataframe tbody tr th {\n",
       "        vertical-align: top;\n",
       "    }\n",
       "\n",
       "    .dataframe thead th {\n",
       "        text-align: right;\n",
       "    }\n",
       "</style>\n",
       "<table border=\"1\" class=\"dataframe\">\n",
       "  <thead>\n",
       "    <tr style=\"text-align: right;\">\n",
       "      <th></th>\n",
       "      <th>job_id</th>\n",
       "      <th>skill_abr</th>\n",
       "    </tr>\n",
       "  </thead>\n",
       "  <tbody>\n",
       "    <tr>\n",
       "      <th>27889</th>\n",
       "      <td>3701373514</td>\n",
       "      <td>MNFC</td>\n",
       "    </tr>\n",
       "    <tr>\n",
       "      <th>27890</th>\n",
       "      <td>3701373515</td>\n",
       "      <td>ENG</td>\n",
       "    </tr>\n",
       "    <tr>\n",
       "      <th>27891</th>\n",
       "      <td>3701373515</td>\n",
       "      <td>IT</td>\n",
       "    </tr>\n",
       "    <tr>\n",
       "      <th>27892</th>\n",
       "      <td>3701373516</td>\n",
       "      <td>ENG</td>\n",
       "    </tr>\n",
       "    <tr>\n",
       "      <th>27893</th>\n",
       "      <td>3701373516</td>\n",
       "      <td>IT</td>\n",
       "    </tr>\n",
       "    <tr>\n",
       "      <th>27894</th>\n",
       "      <td>3701373522</td>\n",
       "      <td>ADM</td>\n",
       "    </tr>\n",
       "    <tr>\n",
       "      <th>27895</th>\n",
       "      <td>3701373523</td>\n",
       "      <td>HCPR</td>\n",
       "    </tr>\n",
       "    <tr>\n",
       "      <th>27896</th>\n",
       "      <td>3701373524</td>\n",
       "      <td>OTHR</td>\n",
       "    </tr>\n",
       "    <tr>\n",
       "      <th>27897</th>\n",
       "      <td>3701373527</td>\n",
       "      <td>BD</td>\n",
       "    </tr>\n",
       "    <tr>\n",
       "      <th>27898</th>\n",
       "      <td>3701373527</td>\n",
       "      <td>SALE</td>\n",
       "    </tr>\n",
       "  </tbody>\n",
       "</table>\n",
       "</div>"
      ],
      "text/plain": [
       "           job_id skill_abr\n",
       "27889  3701373514      MNFC\n",
       "27890  3701373515       ENG\n",
       "27891  3701373515        IT\n",
       "27892  3701373516       ENG\n",
       "27893  3701373516        IT\n",
       "27894  3701373522       ADM\n",
       "27895  3701373523      HCPR\n",
       "27896  3701373524      OTHR\n",
       "27897  3701373527        BD\n",
       "27898  3701373527      SALE"
      ]
     },
     "execution_count": 34,
     "metadata": {},
     "output_type": "execute_result"
    }
   ],
   "source": [
    "job_skills_df.tail(10)"
   ]
  },
  {
   "cell_type": "markdown",
   "id": "2bd4f04c",
   "metadata": {
    "id": "2bd4f04c"
   },
   "source": [
    "### Join the job_postings_df with the job_skills_df"
   ]
  },
  {
   "cell_type": "code",
   "execution_count": 68,
   "id": "fb1714a9",
   "metadata": {
    "id": "fb1714a9"
   },
   "outputs": [],
   "source": [
    "# merge data\n",
    "df = job_postings_df.merge(job_skills_df, on='job_id',  how='left')"
   ]
  },
  {
   "cell_type": "code",
   "execution_count": 69,
   "id": "4c7862fa",
   "metadata": {
    "id": "4c7862fa"
   },
   "outputs": [],
   "source": [
    "# select columns\n",
    "df = df[['job_id', 'description', 'max_salary', 'med_salary', 'min_salary', 'pay_period', 'currency', 'work_type','compensation_type','skill_abr', 'location', 'title']]"
   ]
  },
  {
   "cell_type": "code",
   "execution_count": 70,
   "id": "5b7f618c",
   "metadata": {},
   "outputs": [],
   "source": [
    "# convert every salary to hourly pay period \n",
    "def convert_to_hourly(row):\n",
    "    if row['pay_period'] == 'YEARLY':\n",
    "        if row['work_type'] in ['FULL_TIME', 'CONTRACT']:\n",
    "            return row['min_salary'] / (40 * 52), row['max_salary'] / (40 * 52)\n",
    "        elif row['work_type'] == 'PART_TIME':\n",
    "            return row['min_salary'] / (20 * 52), row['max_salary'] / (20 * 52)\n",
    "    elif row['pay_period'] == 'MONTHLY':\n",
    "        if row['work_type'] in ['FULL_TIME', 'CONTRACT']:\n",
    "            return row['min_salary'] * 12 / (40 * 52), row['max_salary'] * 12 / (40 * 52)\n",
    "        elif row['work_type'] == 'PART_TIME':\n",
    "            return row['min_salary'] * 12 / (20 * 52), row['max_salary'] * 12 / (20 * 52)\n",
    "    else:\n",
    "        return row['min_salary'], row['max_salary']\n",
    "\n",
    "# Apply the function to the DataFrame using a lambda function\n",
    "df[['min_salary', 'max_salary']] = df.apply(lambda row: convert_to_hourly(row), axis=1, result_type='expand')\n"
   ]
  },
  {
   "cell_type": "code",
   "execution_count": 71,
   "id": "3124effc",
   "metadata": {
    "id": "3124effc"
   },
   "outputs": [],
   "source": [
    "# calculate average salary\n",
    "df['avg_salary'] = (df['max_salary'] + df['min_salary']) / 2"
   ]
  },
  {
   "cell_type": "code",
   "execution_count": 28,
   "id": "f190e18d",
   "metadata": {
    "colab": {
     "base_uri": "https://localhost:8080/"
    },
    "id": "f190e18d",
    "outputId": "ad12accd-8dfa-489e-c87c-442511fb7815"
   },
   "outputs": [
    {
     "data": {
      "text/plain": [
       "job_id                   0\n",
       "description              2\n",
       "max_salary           17847\n",
       "med_salary           25826\n",
       "min_salary           17847\n",
       "pay_period           16069\n",
       "currency             16069\n",
       "compensation_type    16069\n",
       "skill_abr              637\n",
       "location                 0\n",
       "work_type                0\n",
       "title                    0\n",
       "avg_salary           17847\n",
       "dtype: int64"
      ]
     },
     "execution_count": 28,
     "metadata": {},
     "output_type": "execute_result"
    }
   ],
   "source": [
    "nan_counts = df.isna().sum()\n",
    "nan_counts"
   ]
  },
  {
   "cell_type": "code",
   "execution_count": 72,
   "id": "Qe4GRfJNvlbr",
   "metadata": {
    "colab": {
     "base_uri": "https://localhost:8080/",
     "height": 791
    },
    "id": "Qe4GRfJNvlbr",
    "outputId": "7e3461e7-acf4-467e-cbeb-f00f8aadbf04",
    "scrolled": true
   },
   "outputs": [],
   "source": [
    "# filter to remove rows without descriptions or avg_salary\n",
    "df = df.dropna(subset=['description', 'avg_salary'])"
   ]
  },
  {
   "cell_type": "code",
   "execution_count": 73,
   "id": "50d2a527",
   "metadata": {
    "colab": {
     "base_uri": "https://localhost:8080/"
    },
    "id": "50d2a527",
    "outputId": "042b4b6c-db8f-4884-e83a-25b69904e6b6"
   },
   "outputs": [
    {
     "data": {
      "text/plain": [
       "(9701, 13)"
      ]
     },
     "execution_count": 73,
     "metadata": {},
     "output_type": "execute_result"
    }
   ],
   "source": [
    "df.shape"
   ]
  },
  {
   "cell_type": "code",
   "execution_count": 33,
   "id": "0cdb286f",
   "metadata": {
    "colab": {
     "base_uri": "https://localhost:8080/"
    },
    "id": "0cdb286f",
    "outputId": "866f7905-6dfb-4c9b-ce6a-605c054ce5a5",
    "scrolled": true
   },
   "outputs": [
    {
     "data": {
      "text/plain": [
       "array(['USD', nan], dtype=object)"
      ]
     },
     "execution_count": 33,
     "metadata": {},
     "output_type": "execute_result"
    }
   ],
   "source": [
    "df['currency'].unique()"
   ]
  },
  {
   "cell_type": "code",
   "execution_count": 35,
   "id": "8472ed11",
   "metadata": {
    "colab": {
     "base_uri": "https://localhost:8080/"
    },
    "id": "8472ed11",
    "outputId": "b76951c1-3997-426e-d50f-47ac053643e0"
   },
   "outputs": [
    {
     "data": {
      "text/plain": [
       "array(['BASE_SALARY', nan], dtype=object)"
      ]
     },
     "execution_count": 35,
     "metadata": {},
     "output_type": "execute_result"
    }
   ],
   "source": [
    "df['compensation_type'].unique()"
   ]
  },
  {
   "cell_type": "code",
   "execution_count": 75,
   "id": "b1527d45",
   "metadata": {
    "colab": {
     "base_uri": "https://localhost:8080/",
     "height": 793
    },
    "id": "b1527d45",
    "outputId": "723c102e-dff4-4cae-edcb-fb8939ebfea6"
   },
   "outputs": [
    {
     "data": {
      "image/png": "[encoded data removed]",
      "text/plain": [
       "<Figure size 2000x1500 with 6 Axes>"
      ]
     },
     "metadata": {},
     "output_type": "display_data"
    }
   ],
   "source": [
    "#!pip install matplotlib\n",
    "#!pip install inline\n",
    "import matplotlib as mpl\n",
    "import matplotlib.pyplot as plt\n",
    "%matplotlib inline\n",
    "df.hist(bins=15, figsize=(20,15))\n",
    "plt.show()"
   ]
  },
  {
   "cell_type": "code",
   "execution_count": 78,
   "id": "06eb8e88",
   "metadata": {
    "id": "06eb8e88"
   },
   "outputs": [
    {
     "name": "stdout",
     "output_type": "stream",
     "text": [
      "Collecting scikit-learn\n",
      "  Downloading scikit_learn-1.3.0-cp310-cp310-macosx_12_0_arm64.whl (9.5 MB)\n",
      "\u001b[2K     \u001b[90m━━━━━━━━━━━━━━━━━━━━━━━━━━━━━━━━━━━━━━━━\u001b[0m \u001b[32m9.5/9.5 MB\u001b[0m \u001b[31m9.7 MB/s\u001b[0m eta \u001b[36m0:00:00\u001b[0m:00:01\u001b[0m0:01\u001b[0mm\n",
      "\u001b[?25hCollecting scipy>=1.5.0\n",
      "  Using cached scipy-1.11.2-cp310-cp310-macosx_12_0_arm64.whl (29.6 MB)\n",
      "Requirement already satisfied: numpy>=1.17.3 in /Users/treypallace/miniconda3/lib/python3.10/site-packages (from scikit-learn) (1.25.0)\n",
      "Collecting threadpoolctl>=2.0.0\n",
      "  Downloading threadpoolctl-3.2.0-py3-none-any.whl (15 kB)\n",
      "Collecting joblib>=1.1.1\n",
      "  Downloading joblib-1.3.2-py3-none-any.whl (302 kB)\n",
      "\u001b[2K     \u001b[90m━━━━━━━━━━━━━━━━━━━━━━━━━━━━━━━━━━━━━━━\u001b[0m \u001b[32m302.2/302.2 kB\u001b[0m \u001b[31m9.0 MB/s\u001b[0m eta \u001b[36m0:00:00\u001b[0m\n",
      "\u001b[?25hInstalling collected packages: threadpoolctl, scipy, joblib, scikit-learn\n",
      "Successfully installed joblib-1.3.2 scikit-learn-1.3.0 scipy-1.11.2 threadpoolctl-3.2.0\n"
     ]
    },
    {
     "name": "stderr",
     "output_type": "stream",
     "text": [
      "/Users/treypallace/miniconda3/lib/python3.10/site-packages/sklearn/impute/_base.py:555: UserWarning: Skipping features without any observed values: ['med_salary']. At least one non-missing value is needed for imputation with strategy='median'.\n",
      "  warnings.warn(\n"
     ]
    }
   ],
   "source": [
    "#!pip install scikit-learn\n",
    "from sklearn.impute import SimpleImputer\n",
    "from sklearn.pipeline import Pipeline\n",
    "from sklearn.preprocessing import StandardScaler\n",
    "\n",
    "imputer = SimpleImputer(strategy=\"median\")\n",
    "\n",
    "num_attribs = [\"max_salary\", \"min_salary\", \"avg_salary\"]\n",
    "cat_attribs = [\"job_id\",\"description\", \"pay_period\", \"currency\", \"compensation_type\", \"skill_abr\", \"location\", \"work_type\", \"title\"]\n",
    "\n",
    "housing_num = df.drop(cat_attribs, axis=1)\n",
    "\n",
    "num_pipeline = Pipeline([\n",
    "        ('imputer', SimpleImputer(strategy=\"median\")),\n",
    "        ('std_scaler', StandardScaler()),\n",
    "    ])\n",
    "\n",
    "housing_num_tr = num_pipeline.fit_transform(housing_num)"
   ]
  },
  {
   "cell_type": "code",
   "execution_count": 79,
   "id": "XRXDUvCry_OS",
   "metadata": {
    "id": "XRXDUvCry_OS"
   },
   "outputs": [
    {
     "name": "stderr",
     "output_type": "stream",
     "text": [
      "/Users/treypallace/miniconda3/lib/python3.10/site-packages/sklearn/impute/_base.py:555: UserWarning: Skipping features without any observed values: ['med_salary']. At least one non-missing value is needed for imputation with strategy='median'.\n",
      "  warnings.warn(\n"
     ]
    }
   ],
   "source": [
    "from sklearn.compose import ColumnTransformer\n",
    "from sklearn.preprocessing import OneHotEncoder\n",
    "\n",
    "full_pipeline = ColumnTransformer([\n",
    "        (\"num\", num_pipeline, num_attribs),\n",
    "        (\"cat\", OneHotEncoder(), cat_attribs),\n",
    "    ])\n",
    "\n",
    "df_prepared = full_pipeline.fit_transform(df)"
   ]
  },
  {
   "cell_type": "markdown",
   "id": "2dee6b15",
   "metadata": {},
   "source": [
    "## Convert descriptions to numeric data"
   ]
  },
  {
   "cell_type": "code",
   "execution_count": 82,
   "id": "2e74f7bd",
   "metadata": {},
   "outputs": [
    {
     "name": "stdout",
     "output_type": "stream",
     "text": [
      "Collecting nltk\n",
      "  Using cached nltk-3.8.1-py3-none-any.whl (1.5 MB)\n",
      "Collecting click\n",
      "  Downloading click-8.1.7-py3-none-any.whl (97 kB)\n",
      "\u001b[2K     \u001b[90m━━━━━━━━━━━━━━━━━━━━━━━━━━━━━━━━━━━━━━━━\u001b[0m \u001b[32m97.9/97.9 kB\u001b[0m \u001b[31m2.1 MB/s\u001b[0m eta \u001b[36m0:00:00\u001b[0ma \u001b[36m0:00:01\u001b[0m\n",
      "\u001b[?25hCollecting regex>=2021.8.3\n",
      "  Downloading regex-2023.8.8-cp310-cp310-macosx_11_0_arm64.whl (289 kB)\n",
      "\u001b[2K     \u001b[90m━━━━━━━━━━━━━━━━━━━━━━━━━━━━━━━━━━━━━━━\u001b[0m \u001b[32m289.3/289.3 kB\u001b[0m \u001b[31m4.0 MB/s\u001b[0m eta \u001b[36m0:00:00\u001b[0ma \u001b[36m0:00:01\u001b[0m\n",
      "\u001b[?25hRequirement already satisfied: joblib in /Users/treypallace/miniconda3/lib/python3.10/site-packages (from nltk) (1.3.2)\n",
      "Requirement already satisfied: tqdm in /Users/treypallace/miniconda3/lib/python3.10/site-packages (from nltk) (4.65.0)\n",
      "Installing collected packages: regex, click, nltk\n",
      "Successfully installed click-8.1.7 nltk-3.8.1 regex-2023.8.8\n"
     ]
    }
   ],
   "source": [
    "#!pip install nltk\n",
    "import nltk\n",
    "from nltk.stem import WordNetLemmatizer\n",
    "from nltk.corpus import wordnet\n",
    "import re, collections\n",
    "from collections import defaultdict\n",
    "from sklearn.feature_extraction.text import CountVectorizer\n",
    "from sklearn.metrics import mean_squared_error, r2_score\n",
    "from sklearn.model_selection import train_test_split\n",
    "from sklearn.linear_model import LinearRegression, Ridge, Lasso\n",
    "from sklearn.svm import SVR\n",
    "from sklearn import ensemble\n",
    "from sklearn.model_selection import GridSearchCV\n",
    "from sklearn.metrics import cohen_kappa_score"
   ]
  },
  {
   "cell_type": "code",
   "execution_count": 85,
   "id": "1b88c7f7",
   "metadata": {},
   "outputs": [],
   "source": [
    "# Tokenize a sentence into words\n",
    "\n",
    "def sentence_to_wordlist(raw_sentence):\n",
    "    \n",
    "    clean_sentence = re.sub(\"[^a-zA-Z0-9]\",\" \", raw_sentence)\n",
    "    tokens = nltk.word_tokenize(clean_sentence)\n",
    "    \n",
    "    return tokens\n",
    "\n",
    "\n",
    "# tokenizing a description into a list of word lists\n",
    "\n",
    "def tokenize(description):\n",
    "    stripped_description = description.strip()\n",
    "    \n",
    "    tokenizer = nltk.data.load('tokenizers/punkt/english.pickle')\n",
    "    raw_sentences = tokenizer.tokenize(stripped_description)\n",
    "    \n",
    "    tokenized_sentences = []\n",
    "    for raw_sentence in raw_sentences:\n",
    "        if len(raw_sentence) > 0:\n",
    "            tokenized_sentences.append(sentence_to_wordlist(raw_sentence))\n",
    "    \n",
    "    return tokenized_sentences\n",
    "\n",
    "# getiing Bag of Words (BOW) counts\n",
    "def get_count_vectors(descriptions):\n",
    "    \n",
    "    vectorizer = CountVectorizer(max_features = 10000, ngram_range=(1, 3), stop_words='english')\n",
    "    \n",
    "    count_vectors = vectorizer.fit_transform(descriptions)\n",
    "    \n",
    "    feature_names = vectorizer.get_feature_names_out()\n",
    "    \n",
    "    return feature_names, count_vectors"
   ]
  },
  {
   "cell_type": "code",
   "execution_count": 86,
   "id": "ccae8a3f",
   "metadata": {},
   "outputs": [],
   "source": [
    "feature_names_cv, count_vectors = get_count_vectors(df['description'])"
   ]
  },
  {
   "cell_type": "code",
   "execution_count": 92,
   "id": "1a8f4ace",
   "metadata": {},
   "outputs": [
    {
     "name": "stdout",
     "output_type": "stream",
     "text": [
      "                  Word  Frequency\n",
      "3534        experience     8957.0\n",
      "9779              work     8221.0\n",
      "8981              team     7429.0\n",
      "8368            skills     7265.0\n",
      "9955             years     7193.0\n",
      "4540         including     6778.0\n",
      "9170              time     6115.0\n",
      "4900               job     6069.0\n",
      "6695          position     5987.0\n",
      "5471        management     5799.0\n",
      "1088          benefits     5716.0\n",
      "218            ability     5681.0\n",
      "6150       opportunity     5622.0\n",
      "1269          business     5403.0\n",
      "1874           company     5400.0\n",
      "7865              role     5386.0\n",
      "2488            degree     5321.0\n",
      "7750  responsibilities     5280.0\n",
      "9874           working     5271.0\n",
      "8894           support     5176.0\n",
      "1832     communication     5167.0\n",
      "7504           related     5150.0\n",
      "7648          required     5107.0\n",
      "5946               new     5084.0\n",
      "5006         knowledge     4968.0\n",
      "1010             based     4855.0\n",
      "7309             range     4830.0\n",
      "3305       environment     4815.0\n",
      "7683      requirements     4754.0\n",
      "2670       development     4621.0\n"
     ]
    }
   ],
   "source": [
    "# convert all words to lowercase\n",
    "count_vectors = count_vectors.astype(float)\n",
    "count_vectors[count_vectors > 0] = 1  # Convert non-zero counts to 1 (binary)\n",
    "\n",
    "# sum the counts for each word across all descriptions\n",
    "word_frequencies = count_vectors.sum(axis=0)\n",
    "\n",
    "# create a DataFrame to store word frequencies\n",
    "word_frequency_df = pd.DataFrame({'Word': feature_names_cv, 'Frequency': word_frequencies.flat})\n",
    "\n",
    "# sort the DataFrame by frequency in descending order\n",
    "word_frequency_df = word_frequency_df.sort_values(by='Frequency', ascending=False)\n",
    "\n",
    "# display the most frequent words\n",
    "print(word_frequency_df.head(30))"
   ]
  }
 ],
 "metadata": {
  "colab": {
   "provenance": []
  },
  "kernelspec": {
   "display_name": "Python 3 (ipykernel)",
   "language": "python",
   "name": "python3"
  },
  "language_info": {
   "codemirror_mode": {
    "name": "ipython",
    "version": 3
   },
   "file_extension": ".py",
   "mimetype": "text/x-python",
   "name": "python",
   "nbconvert_exporter": "python",
   "pygments_lexer": "ipython3",
   "version": "3.10.10"
  }
 },
 "nbformat": 4,
 "nbformat_minor": 5
}
